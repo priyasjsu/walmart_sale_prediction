{
 "cells": [
  {
   "cell_type": "code",
   "execution_count": 1,
   "id": "75b2f1cd",
   "metadata": {},
   "outputs": [],
   "source": [
    "import numpy as np\n",
    "import pandas as pd"
   ]
  },
  {
   "cell_type": "code",
   "execution_count": 2,
   "id": "486e7144",
   "metadata": {},
   "outputs": [
    {
     "data": {
      "text/html": [
       "<div>\n",
       "<style scoped>\n",
       "    .dataframe tbody tr th:only-of-type {\n",
       "        vertical-align: middle;\n",
       "    }\n",
       "\n",
       "    .dataframe tbody tr th {\n",
       "        vertical-align: top;\n",
       "    }\n",
       "\n",
       "    .dataframe thead th {\n",
       "        text-align: right;\n",
       "    }\n",
       "</style>\n",
       "<table border=\"1\" class=\"dataframe\">\n",
       "  <thead>\n",
       "    <tr style=\"text-align: right;\">\n",
       "      <th></th>\n",
       "      <th>Store</th>\n",
       "      <th>Date</th>\n",
       "      <th>Weekly_Sales</th>\n",
       "      <th>Holiday_Flag</th>\n",
       "      <th>Temperature</th>\n",
       "      <th>Fuel_Price</th>\n",
       "      <th>CPI</th>\n",
       "      <th>Unemployment</th>\n",
       "    </tr>\n",
       "  </thead>\n",
       "  <tbody>\n",
       "    <tr>\n",
       "      <th>0</th>\n",
       "      <td>1</td>\n",
       "      <td>05-02-2010</td>\n",
       "      <td>1643690.90</td>\n",
       "      <td>0</td>\n",
       "      <td>42.31</td>\n",
       "      <td>2.572</td>\n",
       "      <td>211.096358</td>\n",
       "      <td>8.106</td>\n",
       "    </tr>\n",
       "    <tr>\n",
       "      <th>1</th>\n",
       "      <td>1</td>\n",
       "      <td>12-02-2010</td>\n",
       "      <td>1641957.44</td>\n",
       "      <td>1</td>\n",
       "      <td>38.51</td>\n",
       "      <td>2.548</td>\n",
       "      <td>211.242170</td>\n",
       "      <td>8.106</td>\n",
       "    </tr>\n",
       "    <tr>\n",
       "      <th>2</th>\n",
       "      <td>1</td>\n",
       "      <td>19-02-2010</td>\n",
       "      <td>1611968.17</td>\n",
       "      <td>0</td>\n",
       "      <td>39.93</td>\n",
       "      <td>2.514</td>\n",
       "      <td>211.289143</td>\n",
       "      <td>8.106</td>\n",
       "    </tr>\n",
       "    <tr>\n",
       "      <th>3</th>\n",
       "      <td>1</td>\n",
       "      <td>26-02-2010</td>\n",
       "      <td>1409727.59</td>\n",
       "      <td>0</td>\n",
       "      <td>46.63</td>\n",
       "      <td>2.561</td>\n",
       "      <td>211.319643</td>\n",
       "      <td>8.106</td>\n",
       "    </tr>\n",
       "    <tr>\n",
       "      <th>4</th>\n",
       "      <td>1</td>\n",
       "      <td>05-03-2010</td>\n",
       "      <td>1554806.68</td>\n",
       "      <td>0</td>\n",
       "      <td>46.50</td>\n",
       "      <td>2.625</td>\n",
       "      <td>211.350143</td>\n",
       "      <td>8.106</td>\n",
       "    </tr>\n",
       "  </tbody>\n",
       "</table>\n",
       "</div>"
      ],
      "text/plain": [
       "   Store        Date  Weekly_Sales  Holiday_Flag  Temperature  Fuel_Price  \\\n",
       "0      1  05-02-2010    1643690.90             0        42.31       2.572   \n",
       "1      1  12-02-2010    1641957.44             1        38.51       2.548   \n",
       "2      1  19-02-2010    1611968.17             0        39.93       2.514   \n",
       "3      1  26-02-2010    1409727.59             0        46.63       2.561   \n",
       "4      1  05-03-2010    1554806.68             0        46.50       2.625   \n",
       "\n",
       "          CPI  Unemployment  \n",
       "0  211.096358         8.106  \n",
       "1  211.242170         8.106  \n",
       "2  211.289143         8.106  \n",
       "3  211.319643         8.106  \n",
       "4  211.350143         8.106  "
      ]
     },
     "execution_count": 2,
     "metadata": {},
     "output_type": "execute_result"
    }
   ],
   "source": [
    "df = pd.read_csv('Walmart.csv')\n",
    "df.head()"
   ]
  },
  {
   "cell_type": "code",
   "execution_count": 3,
   "id": "9ea01118",
   "metadata": {},
   "outputs": [
    {
     "name": "stdout",
     "output_type": "stream",
     "text": [
      "<class 'pandas.core.frame.DataFrame'>\n",
      "RangeIndex: 6435 entries, 0 to 6434\n",
      "Data columns (total 8 columns):\n",
      " #   Column        Non-Null Count  Dtype  \n",
      "---  ------        --------------  -----  \n",
      " 0   Store         6435 non-null   int64  \n",
      " 1   Date          6435 non-null   object \n",
      " 2   Weekly_Sales  6435 non-null   float64\n",
      " 3   Holiday_Flag  6435 non-null   int64  \n",
      " 4   Temperature   6435 non-null   float64\n",
      " 5   Fuel_Price    6435 non-null   float64\n",
      " 6   CPI           6435 non-null   float64\n",
      " 7   Unemployment  6435 non-null   float64\n",
      "dtypes: float64(5), int64(2), object(1)\n",
      "memory usage: 402.3+ KB\n"
     ]
    }
   ],
   "source": [
    "df.info()"
   ]
  },
  {
   "cell_type": "markdown",
   "id": "a9b7a8ab",
   "metadata": {},
   "source": [
    "### Unique values"
   ]
  },
  {
   "cell_type": "code",
   "execution_count": 4,
   "id": "ee68ff9d",
   "metadata": {},
   "outputs": [
    {
     "name": "stdout",
     "output_type": "stream",
     "text": [
      "Store: 45\n",
      "Date: 143\n",
      "Weekly_Sales: 6435\n",
      "Holiday_Flag: 2\n",
      "Temperature: 3528\n",
      "Fuel_Price: 892\n",
      "CPI: 2145\n",
      "Unemployment: 349\n"
     ]
    }
   ],
   "source": [
    "for i in df.columns:\n",
    "    print(f'{i}: {df[i].nunique()}')"
   ]
  },
  {
   "cell_type": "code",
   "execution_count": 5,
   "id": "18601957",
   "metadata": {},
   "outputs": [
    {
     "data": {
      "text/html": [
       "<style type=\"text/css\">\n",
       "#T_8deb2_row0_col0, #T_8deb2_row0_col2, #T_8deb2_row0_col3, #T_8deb2_row0_col4, #T_8deb2_row0_col5, #T_8deb2_row0_col6, #T_8deb2_row7_col1 {\n",
       "  background-color: #084081;\n",
       "  color: #f1f1f1;\n",
       "}\n",
       "#T_8deb2_row0_col1, #T_8deb2_row1_col0, #T_8deb2_row1_col2, #T_8deb2_row1_col4, #T_8deb2_row1_col6, #T_8deb2_row2_col0, #T_8deb2_row2_col2, #T_8deb2_row2_col3, #T_8deb2_row2_col4, #T_8deb2_row2_col5, #T_8deb2_row2_col6, #T_8deb2_row3_col0, #T_8deb2_row3_col2, #T_8deb2_row3_col3, #T_8deb2_row3_col4, #T_8deb2_row3_col6, #T_8deb2_row4_col0, #T_8deb2_row4_col2, #T_8deb2_row4_col4, #T_8deb2_row4_col6, #T_8deb2_row5_col0, #T_8deb2_row5_col2, #T_8deb2_row5_col4, #T_8deb2_row5_col6, #T_8deb2_row6_col2, #T_8deb2_row6_col4, #T_8deb2_row6_col6, #T_8deb2_row7_col2, #T_8deb2_row7_col4, #T_8deb2_row7_col6 {\n",
       "  background-color: #f7fcf0;\n",
       "  color: #000000;\n",
       "}\n",
       "#T_8deb2_row1_col1 {\n",
       "  background-color: #c6e9c2;\n",
       "  color: #000000;\n",
       "}\n",
       "#T_8deb2_row1_col3, #T_8deb2_row5_col3 {\n",
       "  background-color: #f6fbef;\n",
       "  color: #000000;\n",
       "}\n",
       "#T_8deb2_row1_col5, #T_8deb2_row5_col5 {\n",
       "  background-color: #f3fbed;\n",
       "  color: #000000;\n",
       "}\n",
       "#T_8deb2_row2_col1 {\n",
       "  background-color: #ddf2d7;\n",
       "  color: #000000;\n",
       "}\n",
       "#T_8deb2_row3_col1 {\n",
       "  background-color: #eef8e7;\n",
       "  color: #000000;\n",
       "}\n",
       "#T_8deb2_row3_col5, #T_8deb2_row4_col5, #T_8deb2_row6_col3 {\n",
       "  background-color: #f5fbee;\n",
       "  color: #000000;\n",
       "}\n",
       "#T_8deb2_row4_col1 {\n",
       "  background-color: #ddf2d8;\n",
       "  color: #000000;\n",
       "}\n",
       "#T_8deb2_row4_col3, #T_8deb2_row6_col0, #T_8deb2_row7_col0 {\n",
       "  background-color: #f6fcef;\n",
       "  color: #000000;\n",
       "}\n",
       "#T_8deb2_row5_col1 {\n",
       "  background-color: #ccebc5;\n",
       "  color: #000000;\n",
       "}\n",
       "#T_8deb2_row6_col1 {\n",
       "  background-color: #aadeb6;\n",
       "  color: #000000;\n",
       "}\n",
       "#T_8deb2_row6_col5 {\n",
       "  background-color: #f3faec;\n",
       "  color: #000000;\n",
       "}\n",
       "#T_8deb2_row7_col3 {\n",
       "  background-color: #f4fbed;\n",
       "  color: #000000;\n",
       "}\n",
       "#T_8deb2_row7_col5 {\n",
       "  background-color: #f2faeb;\n",
       "  color: #000000;\n",
       "}\n",
       "</style>\n",
       "<table id=\"T_8deb2_\">\n",
       "  <thead>\n",
       "    <tr>\n",
       "      <th class=\"blank level0\" >&nbsp;</th>\n",
       "      <th class=\"col_heading level0 col0\" >Store</th>\n",
       "      <th class=\"col_heading level0 col1\" >Weekly_Sales</th>\n",
       "      <th class=\"col_heading level0 col2\" >Holiday_Flag</th>\n",
       "      <th class=\"col_heading level0 col3\" >Temperature</th>\n",
       "      <th class=\"col_heading level0 col4\" >Fuel_Price</th>\n",
       "      <th class=\"col_heading level0 col5\" >CPI</th>\n",
       "      <th class=\"col_heading level0 col6\" >Unemployment</th>\n",
       "    </tr>\n",
       "  </thead>\n",
       "  <tbody>\n",
       "    <tr>\n",
       "      <th id=\"T_8deb2_level0_row0\" class=\"row_heading level0 row0\" >count</th>\n",
       "      <td id=\"T_8deb2_row0_col0\" class=\"data row0 col0\" >6435.000000</td>\n",
       "      <td id=\"T_8deb2_row0_col1\" class=\"data row0 col1\" >6435.000000</td>\n",
       "      <td id=\"T_8deb2_row0_col2\" class=\"data row0 col2\" >6435.000000</td>\n",
       "      <td id=\"T_8deb2_row0_col3\" class=\"data row0 col3\" >6435.000000</td>\n",
       "      <td id=\"T_8deb2_row0_col4\" class=\"data row0 col4\" >6435.000000</td>\n",
       "      <td id=\"T_8deb2_row0_col5\" class=\"data row0 col5\" >6435.000000</td>\n",
       "      <td id=\"T_8deb2_row0_col6\" class=\"data row0 col6\" >6435.000000</td>\n",
       "    </tr>\n",
       "    <tr>\n",
       "      <th id=\"T_8deb2_level0_row1\" class=\"row_heading level0 row1\" >mean</th>\n",
       "      <td id=\"T_8deb2_row1_col0\" class=\"data row1 col0\" >23.000000</td>\n",
       "      <td id=\"T_8deb2_row1_col1\" class=\"data row1 col1\" >1046964.877562</td>\n",
       "      <td id=\"T_8deb2_row1_col2\" class=\"data row1 col2\" >0.069930</td>\n",
       "      <td id=\"T_8deb2_row1_col3\" class=\"data row1 col3\" >60.663782</td>\n",
       "      <td id=\"T_8deb2_row1_col4\" class=\"data row1 col4\" >3.358607</td>\n",
       "      <td id=\"T_8deb2_row1_col5\" class=\"data row1 col5\" >171.578394</td>\n",
       "      <td id=\"T_8deb2_row1_col6\" class=\"data row1 col6\" >7.999151</td>\n",
       "    </tr>\n",
       "    <tr>\n",
       "      <th id=\"T_8deb2_level0_row2\" class=\"row_heading level0 row2\" >std</th>\n",
       "      <td id=\"T_8deb2_row2_col0\" class=\"data row2 col0\" >12.988182</td>\n",
       "      <td id=\"T_8deb2_row2_col1\" class=\"data row2 col1\" >564366.622054</td>\n",
       "      <td id=\"T_8deb2_row2_col2\" class=\"data row2 col2\" >0.255049</td>\n",
       "      <td id=\"T_8deb2_row2_col3\" class=\"data row2 col3\" >18.444933</td>\n",
       "      <td id=\"T_8deb2_row2_col4\" class=\"data row2 col4\" >0.459020</td>\n",
       "      <td id=\"T_8deb2_row2_col5\" class=\"data row2 col5\" >39.356712</td>\n",
       "      <td id=\"T_8deb2_row2_col6\" class=\"data row2 col6\" >1.875885</td>\n",
       "    </tr>\n",
       "    <tr>\n",
       "      <th id=\"T_8deb2_level0_row3\" class=\"row_heading level0 row3\" >min</th>\n",
       "      <td id=\"T_8deb2_row3_col0\" class=\"data row3 col0\" >1.000000</td>\n",
       "      <td id=\"T_8deb2_row3_col1\" class=\"data row3 col1\" >209986.250000</td>\n",
       "      <td id=\"T_8deb2_row3_col2\" class=\"data row3 col2\" >0.000000</td>\n",
       "      <td id=\"T_8deb2_row3_col3\" class=\"data row3 col3\" >-2.060000</td>\n",
       "      <td id=\"T_8deb2_row3_col4\" class=\"data row3 col4\" >2.472000</td>\n",
       "      <td id=\"T_8deb2_row3_col5\" class=\"data row3 col5\" >126.064000</td>\n",
       "      <td id=\"T_8deb2_row3_col6\" class=\"data row3 col6\" >3.879000</td>\n",
       "    </tr>\n",
       "    <tr>\n",
       "      <th id=\"T_8deb2_level0_row4\" class=\"row_heading level0 row4\" >25%</th>\n",
       "      <td id=\"T_8deb2_row4_col0\" class=\"data row4 col0\" >12.000000</td>\n",
       "      <td id=\"T_8deb2_row4_col1\" class=\"data row4 col1\" >553350.105000</td>\n",
       "      <td id=\"T_8deb2_row4_col2\" class=\"data row4 col2\" >0.000000</td>\n",
       "      <td id=\"T_8deb2_row4_col3\" class=\"data row4 col3\" >47.460000</td>\n",
       "      <td id=\"T_8deb2_row4_col4\" class=\"data row4 col4\" >2.933000</td>\n",
       "      <td id=\"T_8deb2_row4_col5\" class=\"data row4 col5\" >131.735000</td>\n",
       "      <td id=\"T_8deb2_row4_col6\" class=\"data row4 col6\" >6.891000</td>\n",
       "    </tr>\n",
       "    <tr>\n",
       "      <th id=\"T_8deb2_level0_row5\" class=\"row_heading level0 row5\" >50%</th>\n",
       "      <td id=\"T_8deb2_row5_col0\" class=\"data row5 col0\" >23.000000</td>\n",
       "      <td id=\"T_8deb2_row5_col1\" class=\"data row5 col1\" >960746.040000</td>\n",
       "      <td id=\"T_8deb2_row5_col2\" class=\"data row5 col2\" >0.000000</td>\n",
       "      <td id=\"T_8deb2_row5_col3\" class=\"data row5 col3\" >62.670000</td>\n",
       "      <td id=\"T_8deb2_row5_col4\" class=\"data row5 col4\" >3.445000</td>\n",
       "      <td id=\"T_8deb2_row5_col5\" class=\"data row5 col5\" >182.616521</td>\n",
       "      <td id=\"T_8deb2_row5_col6\" class=\"data row5 col6\" >7.874000</td>\n",
       "    </tr>\n",
       "    <tr>\n",
       "      <th id=\"T_8deb2_level0_row6\" class=\"row_heading level0 row6\" >75%</th>\n",
       "      <td id=\"T_8deb2_row6_col0\" class=\"data row6 col0\" >34.000000</td>\n",
       "      <td id=\"T_8deb2_row6_col1\" class=\"data row6 col1\" >1420158.660000</td>\n",
       "      <td id=\"T_8deb2_row6_col2\" class=\"data row6 col2\" >0.000000</td>\n",
       "      <td id=\"T_8deb2_row6_col3\" class=\"data row6 col3\" >74.940000</td>\n",
       "      <td id=\"T_8deb2_row6_col4\" class=\"data row6 col4\" >3.735000</td>\n",
       "      <td id=\"T_8deb2_row6_col5\" class=\"data row6 col5\" >212.743293</td>\n",
       "      <td id=\"T_8deb2_row6_col6\" class=\"data row6 col6\" >8.622000</td>\n",
       "    </tr>\n",
       "    <tr>\n",
       "      <th id=\"T_8deb2_level0_row7\" class=\"row_heading level0 row7\" >max</th>\n",
       "      <td id=\"T_8deb2_row7_col0\" class=\"data row7 col0\" >45.000000</td>\n",
       "      <td id=\"T_8deb2_row7_col1\" class=\"data row7 col1\" >3818686.450000</td>\n",
       "      <td id=\"T_8deb2_row7_col2\" class=\"data row7 col2\" >1.000000</td>\n",
       "      <td id=\"T_8deb2_row7_col3\" class=\"data row7 col3\" >100.140000</td>\n",
       "      <td id=\"T_8deb2_row7_col4\" class=\"data row7 col4\" >4.468000</td>\n",
       "      <td id=\"T_8deb2_row7_col5\" class=\"data row7 col5\" >227.232807</td>\n",
       "      <td id=\"T_8deb2_row7_col6\" class=\"data row7 col6\" >14.313000</td>\n",
       "    </tr>\n",
       "  </tbody>\n",
       "</table>\n"
      ],
      "text/plain": [
       "<pandas.io.formats.style.Styler at 0x7fb858e04d90>"
      ]
     },
     "execution_count": 5,
     "metadata": {},
     "output_type": "execute_result"
    }
   ],
   "source": [
    "df.describe().style.background_gradient(cmap = 'GnBu')"
   ]
  },
  {
   "cell_type": "markdown",
   "id": "90c16eb3",
   "metadata": {},
   "source": [
    "### Highest weekly sales is 3818686.450000."
   ]
  },
  {
   "cell_type": "code",
   "execution_count": 6,
   "id": "26d990fc",
   "metadata": {},
   "outputs": [
    {
     "data": {
      "text/plain": [
       "(6435, 8)"
      ]
     },
     "execution_count": 6,
     "metadata": {},
     "output_type": "execute_result"
    }
   ],
   "source": [
    "df.shape\n"
   ]
  },
  {
   "cell_type": "markdown",
   "id": "af266f59",
   "metadata": {},
   "source": [
    "### Feature Engineering"
   ]
  },
  {
   "cell_type": "markdown",
   "id": "7d05c97e",
   "metadata": {},
   "source": [
    "### The date is differentiated into day, Month and year for analysis."
   ]
  },
  {
   "cell_type": "code",
   "execution_count": 7,
   "id": "6da88f5a",
   "metadata": {},
   "outputs": [
    {
     "name": "stderr",
     "output_type": "stream",
     "text": [
      "/Users/priyakhandelwal/opt/miniconda3/lib/python3.7/site-packages/ipykernel_launcher.py:3: FutureWarning: Series.dt.weekofyear and Series.dt.week have been deprecated.  Please use Series.dt.isocalendar().week instead.\n",
      "  This is separate from the ipykernel package so we can avoid doing imports until\n"
     ]
    },
    {
     "data": {
      "text/html": [
       "<div>\n",
       "<style scoped>\n",
       "    .dataframe tbody tr th:only-of-type {\n",
       "        vertical-align: middle;\n",
       "    }\n",
       "\n",
       "    .dataframe tbody tr th {\n",
       "        vertical-align: top;\n",
       "    }\n",
       "\n",
       "    .dataframe thead th {\n",
       "        text-align: right;\n",
       "    }\n",
       "</style>\n",
       "<table border=\"1\" class=\"dataframe\">\n",
       "  <thead>\n",
       "    <tr style=\"text-align: right;\">\n",
       "      <th></th>\n",
       "      <th>Store</th>\n",
       "      <th>Weekly_Sales</th>\n",
       "      <th>Holiday_Flag</th>\n",
       "      <th>Temperature</th>\n",
       "      <th>Fuel_Price</th>\n",
       "      <th>CPI</th>\n",
       "      <th>Unemployment</th>\n",
       "      <th>Day</th>\n",
       "      <th>Week</th>\n",
       "      <th>Month</th>\n",
       "      <th>Year</th>\n",
       "    </tr>\n",
       "  </thead>\n",
       "  <tbody>\n",
       "    <tr>\n",
       "      <th>0</th>\n",
       "      <td>1</td>\n",
       "      <td>1643690.90</td>\n",
       "      <td>0</td>\n",
       "      <td>42.31</td>\n",
       "      <td>2.572</td>\n",
       "      <td>211.096358</td>\n",
       "      <td>8.106</td>\n",
       "      <td>6</td>\n",
       "      <td>17</td>\n",
       "      <td>5</td>\n",
       "      <td>2010</td>\n",
       "    </tr>\n",
       "    <tr>\n",
       "      <th>1</th>\n",
       "      <td>1</td>\n",
       "      <td>1641957.44</td>\n",
       "      <td>1</td>\n",
       "      <td>38.51</td>\n",
       "      <td>2.548</td>\n",
       "      <td>211.242170</td>\n",
       "      <td>8.106</td>\n",
       "      <td>3</td>\n",
       "      <td>48</td>\n",
       "      <td>12</td>\n",
       "      <td>2010</td>\n",
       "    </tr>\n",
       "    <tr>\n",
       "      <th>2</th>\n",
       "      <td>1</td>\n",
       "      <td>1611968.17</td>\n",
       "      <td>0</td>\n",
       "      <td>39.93</td>\n",
       "      <td>2.514</td>\n",
       "      <td>211.289143</td>\n",
       "      <td>8.106</td>\n",
       "      <td>4</td>\n",
       "      <td>7</td>\n",
       "      <td>2</td>\n",
       "      <td>2010</td>\n",
       "    </tr>\n",
       "    <tr>\n",
       "      <th>3</th>\n",
       "      <td>1</td>\n",
       "      <td>1409727.59</td>\n",
       "      <td>0</td>\n",
       "      <td>46.63</td>\n",
       "      <td>2.561</td>\n",
       "      <td>211.319643</td>\n",
       "      <td>8.106</td>\n",
       "      <td>4</td>\n",
       "      <td>8</td>\n",
       "      <td>2</td>\n",
       "      <td>2010</td>\n",
       "    </tr>\n",
       "    <tr>\n",
       "      <th>4</th>\n",
       "      <td>1</td>\n",
       "      <td>1554806.68</td>\n",
       "      <td>0</td>\n",
       "      <td>46.50</td>\n",
       "      <td>2.625</td>\n",
       "      <td>211.350143</td>\n",
       "      <td>8.106</td>\n",
       "      <td>0</td>\n",
       "      <td>18</td>\n",
       "      <td>5</td>\n",
       "      <td>2010</td>\n",
       "    </tr>\n",
       "  </tbody>\n",
       "</table>\n",
       "</div>"
      ],
      "text/plain": [
       "   Store  Weekly_Sales  Holiday_Flag  Temperature  Fuel_Price         CPI  \\\n",
       "0      1    1643690.90             0        42.31       2.572  211.096358   \n",
       "1      1    1641957.44             1        38.51       2.548  211.242170   \n",
       "2      1    1611968.17             0        39.93       2.514  211.289143   \n",
       "3      1    1409727.59             0        46.63       2.561  211.319643   \n",
       "4      1    1554806.68             0        46.50       2.625  211.350143   \n",
       "\n",
       "   Unemployment  Day  Week  Month  Year  \n",
       "0         8.106    6    17      5  2010  \n",
       "1         8.106    3    48     12  2010  \n",
       "2         8.106    4     7      2  2010  \n",
       "3         8.106    4     8      2  2010  \n",
       "4         8.106    0    18      5  2010  "
      ]
     },
     "execution_count": 7,
     "metadata": {},
     "output_type": "execute_result"
    }
   ],
   "source": [
    "df['Date'] = pd.to_datetime(df['Date'])\n",
    "df['Day'] = df['Date'].dt.weekday\n",
    "df['Week'] = df['Date'].dt.week\n",
    "df['Month'] = df['Date'].dt.month\n",
    "df['Year']  = df['Date'].dt.year\n",
    "df.drop('Date',axis=1,inplace=True)\n",
    "df.head()"
   ]
  },
  {
   "cell_type": "markdown",
   "id": "ce9d6bba",
   "metadata": {},
   "source": [
    "### Removing Outliers"
   ]
  },
  {
   "cell_type": "code",
   "execution_count": 8,
   "id": "7253218c",
   "metadata": {},
   "outputs": [],
   "source": [
    "num_features = ['Temperature','Fuel_Price','CPI','Unemployment','Weekly_Sales']\n",
    "for feature in num_features:\n",
    "    q1 = df[feature].quantile(0.25)\n",
    "    q3 = df[feature].quantile(0.75)\n",
    "    iqr = q3-q1\n",
    "    lower = q1 - 1.5*iqr\n",
    "    upper = q3 + 1.5*iqr\n",
    "    df = df[(df[feature] >= lower) & (df[feature] <= upper)]"
   ]
  },
  {
   "cell_type": "markdown",
   "id": "ce9c9b33",
   "metadata": {},
   "source": [
    "### Model Building"
   ]
  },
  {
   "cell_type": "code",
   "execution_count": 9,
   "id": "c5ee131f",
   "metadata": {},
   "outputs": [],
   "source": [
    "x = df.drop(['Weekly_Sales'],axis=1)\n",
    "y = df['Weekly_Sales']"
   ]
  },
  {
   "cell_type": "code",
   "execution_count": null,
   "id": "7503bfef",
   "metadata": {},
   "outputs": [],
   "source": []
  },
  {
   "cell_type": "markdown",
   "id": "a22f435a",
   "metadata": {},
   "source": [
    "### Standardized the data "
   ]
  },
  {
   "cell_type": "code",
   "execution_count": 10,
   "id": "9e2bedc8",
   "metadata": {},
   "outputs": [],
   "source": [
    "from sklearn.preprocessing import StandardScaler  \n",
    "st = StandardScaler()\n",
    "x_scaled = st.fit_transform(x)"
   ]
  },
  {
   "cell_type": "code",
   "execution_count": 33,
   "id": "1bdd9783",
   "metadata": {},
   "outputs": [],
   "source": [
    "from sklearn.model_selection import train_test_split, GridSearchCV \n",
    "x_train,x_test,y_train,y_test = train_test_split(x_scaled,y,test_size=0.2,random_state= 42)"
   ]
  },
  {
   "cell_type": "code",
   "execution_count": 12,
   "id": "5e89cc7a",
   "metadata": {},
   "outputs": [],
   "source": [
    "from sklearn.ensemble import RandomForestRegressor, GradientBoostingRegressor\n",
    "from sklearn.metrics import mean_squared_error, r2_score, mean_absolute_error\n",
    "from sklearn.linear_model import LinearRegression"
   ]
  },
  {
   "cell_type": "code",
   "execution_count": null,
   "id": "51f687aa",
   "metadata": {},
   "outputs": [],
   "source": [
    "\n",
    "    "
   ]
  },
  {
   "cell_type": "code",
   "execution_count": 13,
   "id": "061f048c",
   "metadata": {},
   "outputs": [],
   "source": [
    "def model(model):\n",
    "    \n",
    "    y_test,y_train,x_test,x_train\n",
    "    model1 = model()\n",
    "    model1.fit(x_train,y_train)\n",
    "    y_pred = model1.predict(x_test)\n",
    "    r2_score(y_test,y_pred)\n",
    "  \n",
    "    print(f'MSE: {mean_squared_error(y_test,y_pred)}')\n",
    "    print(f'MAE: {mean_absolute_error(y_test,y_pred)}')\n",
    "    print(f'R2 : {round(r2_score(y_test,y_pred)*100,2)} %')"
   ]
  },
  {
   "cell_type": "code",
   "execution_count": 14,
   "id": "6d91669b",
   "metadata": {},
   "outputs": [
    {
     "name": "stdout",
     "output_type": "stream",
     "text": [
      "MSE: 14080985096.687855\n",
      "MAE: 65999.91627215191\n",
      "R2 : 95.37 %\n"
     ]
    }
   ],
   "source": [
    "model(RandomForestRegressor)"
   ]
  },
  {
   "cell_type": "code",
   "execution_count": null,
   "id": "773322d5",
   "metadata": {},
   "outputs": [],
   "source": [
    "# With gridsearch\n",
    "tune_and_evaluate(RandomForestRegressor, )"
   ]
  },
  {
   "cell_type": "code",
   "execution_count": null,
   "id": "bdbb6b65",
   "metadata": {},
   "outputs": [],
   "source": [
    "# With gridsearch"
   ]
  },
  {
   "cell_type": "code",
   "execution_count": 15,
   "id": "0603a1c7",
   "metadata": {},
   "outputs": [
    {
     "name": "stdout",
     "output_type": "stream",
     "text": [
      "MSE: 257002398384.23465\n",
      "MAE: 421599.43519273883\n",
      "R2 : 15.45 %\n"
     ]
    }
   ],
   "source": [
    "model(LinearRegression)"
   ]
  },
  {
   "cell_type": "code",
   "execution_count": null,
   "id": "31961598",
   "metadata": {},
   "outputs": [],
   "source": [
    "# With gridsearch"
   ]
  },
  {
   "cell_type": "code",
   "execution_count": 16,
   "id": "c1ed075b",
   "metadata": {},
   "outputs": [
    {
     "name": "stdout",
     "output_type": "stream",
     "text": [
      "MSE: 27562364717.255264\n",
      "MAE: 123013.92898795026\n",
      "R2 : 90.93 %\n"
     ]
    }
   ],
   "source": [
    "model(GradientBoostingRegressor)"
   ]
  },
  {
   "cell_type": "code",
   "execution_count": 24,
   "id": "ce91f6de",
   "metadata": {},
   "outputs": [],
   "source": [
    "from xgboost import XGBRegressor\n",
    "import xgboost as xgb\n"
   ]
  },
  {
   "cell_type": "code",
   "execution_count": 25,
   "id": "b2153aa3",
   "metadata": {},
   "outputs": [],
   "source": [
    "xgbr = XGBRegressor(n_estimators = 1000, random_state = 1)\n",
    "dtrain = xgb.DMatrix(x_train, label=y_train)\n"
   ]
  },
  {
   "cell_type": "code",
   "execution_count": 26,
   "id": "5e594ca2",
   "metadata": {},
   "outputs": [],
   "source": [
    "params = {\n",
    "    'objective': 'reg:squarederror',\n",
    "    'max_depth': 3,\n",
    "    'learning_rate': 0.1,\n",
    "    'n_estimators': 100\n",
    "}"
   ]
  },
  {
   "cell_type": "code",
   "execution_count": 27,
   "id": "edb22dec",
   "metadata": {},
   "outputs": [
    {
     "name": "stdout",
     "output_type": "stream",
     "text": [
      "[13:36:46] WARNING: /Users/runner/work/xgboost/xgboost/python-package/build/temp.macosx-10.9-x86_64-cpython-37/xgboost/src/learner.cc:627: \n",
      "Parameters: { \"n_estimators\" } might not be used.\n",
      "\n",
      "  This could be a false alarm, with some parameters getting used by language bindings but\n",
      "  then being mistakenly passed down to XGBoost core, or some parameter actually being used\n",
      "  but getting flagged wrongly here. Please open an issue if you find any such cases.\n",
      "\n",
      "\n"
     ]
    }
   ],
   "source": [
    "model = xgb.train(params, dtrain)\n",
    "\n"
   ]
  },
  {
   "cell_type": "code",
   "execution_count": 30,
   "id": "b9f3bac1",
   "metadata": {},
   "outputs": [
    {
     "name": "stdout",
     "output_type": "stream",
     "text": [
      "Mean Squared Error: 291029122126.3388\n",
      "MAE: 409876.9496582278\n",
      "R2 : 4.25 %\n"
     ]
    }
   ],
   "source": [
    "# Assuming X_test is your testing features\n",
    "dtest = xgb.DMatrix(x_test)\n",
    "y_pred = model.predict(dtest)\n",
    "\n",
    "# Evaluate the model\n",
    "mse = mean_squared_error(y_test, y_pred)\n",
    "print(f'Mean Squared Error: {mse}')\n",
    "print(f'MAE: {mean_absolute_error(y_test,y_pred)}')\n",
    "print(f'R2 : {round(r2_score(y_test,y_pred)*100,2)} %')"
   ]
  },
  {
   "cell_type": "code",
   "execution_count": 38,
   "id": "ea994cd3",
   "metadata": {},
   "outputs": [],
   "source": [
    "def tune_and_evaluate(model,param_grid):\n",
    "    \n",
    "    '''This function recieves a model then tune it using GridSearch \n",
    "    then print the best parameters and return the best estimator'''\n",
    "    \n",
    "    # tunning the model\n",
    "    grid_search = GridSearchCV(estimator= model,param_grid= param_grid,cv=5,scoring='r2')\n",
    "    grid_search.fit(x_train,y_train)\n",
    "    best_params = grid_search.best_params_\n",
    "    best_estimator = grid_search.best_estimator_\n",
    "    # Make predictions on the test set\n",
    "    y_pred = best_estimator.predict(x_test)\n",
    "\n",
    "    best_score = grid_search.best_score_\n",
    "    print(\"Best parameters are: \",best_params)\n",
    "    print('Mean cross-validated score of the best_estimator is: ',best_score)\n",
    "    print('-------------------------------------------------------------------')\n",
    "    \n",
    "    # best estimator evaluation\n",
    "    print(\"Training set Accuracy:\",round(best_estimator.score(x_train,y_train),3)*100)\n",
    "    print(\"Test set Accuracy:\",round(best_estimator.score(x_test,y_test),3)*100)\n",
    "\n",
    "    print(f'MSE: {mean_squared_error(y_test,y_pred)}')\n",
    "    print(f'MAE: {mean_absolute_error(y_test,y_pred)}')\n",
    "    print(f'R2 : {round(r2_score(y_test,y_pred)*100,2)} %')"
   ]
  },
  {
   "cell_type": "code",
   "execution_count": 39,
   "id": "7ccf8c50",
   "metadata": {},
   "outputs": [
    {
     "name": "stdout",
     "output_type": "stream",
     "text": [
      "Best parameters are:  {'max_depth': 5, 'n_estimators': 180}\n",
      "Mean cross-validated score of the best_estimator is:  0.9752168636564219\n",
      "-------------------------------------------------------------------\n",
      "Training set Accuracy: 99.7\n",
      "Test set Accuracy: 97.6\n",
      "MSE: 7189589388.471861\n",
      "MAE: 51626.36230537974\n",
      "R2 : 97.63 %\n"
     ]
    }
   ],
   "source": [
    "# building the model\n",
    "xgb = XGBRegressor(n_jobs=-1)\n",
    "\n",
    "# hyperparameter tunning\n",
    "param_grid = {\n",
    "    'max_depth': np.arange(2,10),\n",
    "    'n_estimators': np.arange(20,201,20)\n",
    "}\n",
    "xgb = tune_and_evaluate(xgb,param_grid)"
   ]
  },
  {
   "cell_type": "code",
   "execution_count": 40,
   "id": "45891f38",
   "metadata": {},
   "outputs": [
    {
     "name": "stdout",
     "output_type": "stream",
     "text": [
      "[ 20  40  60  80 100 120 140 160 180 200]\n"
     ]
    }
   ],
   "source": [
    "print(np.arange(20,201,20))"
   ]
  },
  {
   "cell_type": "code",
   "execution_count": null,
   "id": "9f449cf1",
   "metadata": {},
   "outputs": [],
   "source": []
  }
 ],
 "metadata": {
  "kernelspec": {
   "display_name": "Python 3 (ipykernel)",
   "language": "python",
   "name": "python3"
  },
  "language_info": {
   "codemirror_mode": {
    "name": "ipython",
    "version": 3
   },
   "file_extension": ".py",
   "mimetype": "text/x-python",
   "name": "python",
   "nbconvert_exporter": "python",
   "pygments_lexer": "ipython3",
   "version": "3.7.10"
  }
 },
 "nbformat": 4,
 "nbformat_minor": 5
}
